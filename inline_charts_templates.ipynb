{
 "cells": [
  {
   "cell_type": "markdown",
   "metadata": {},
   "source": [
    "### The Culture of International Relations\n",
    "\n",
    "#### About this project\n",
    "Cultural treaties are the bi-lateral and multilateral agreements among states that promote and regulate cooperation and exchange in the fields of life generally call cultural or intellectual. Although it was only invented in the early twentieth century, this treaty type came to be the fourth most common bilateral treaty in the period 1900-1980 (Poast et al., 2010). In this project, we seek to use several (mostly European) states’ cultural treaties as a historical source with which to explore the emergence of a global concept of culture in the twentieth century. Specifically, the project will investigate the hypothesis that the culture concept, in contrast to earlier ideas of civilization, played a key role in the consolidation of the post-World War II international order.\n",
    "\n",
    "The central questions that interest me here can be divided into two groups: \n",
    "- First, what is the story of the cultural treaty, as a specific tool of international relations, in the twentieth century? What was the historical curve of cultural treaty-making? For example, in which political or ideological constellations do we find (the most) use of cultural treaties? Among which countries, in which historical periods? What networks of relations were thereby created, reinforced, or challenged? \n",
    "- Second, what is the \"culture\" addressed in these treaties? That is, what do the two signatories seem to mean by \"culture\" in these documents, and what does that tell us about the role that concept played in the international system? How can quantitative work on this dataset advance research questions about the history of concepts?\n",
    "\n",
    "In this notebook, we deal with these treaties in three ways:\n",
    "1) quantitative analysis of \"metadata\" about all bilateral cultural treaties signed betweeen 1919 and 1972, as found in the World Treaty Index or WTI (Poast et al., 2010).\n",
    "    For more on how exactly we define a \"cultural treaty\" here, and on other principles of selection, see... [add this, using text now in \"WTI quality assurance\"].\n",
    "2) network analysis of the system of international relationships created by these treaties (using data from WTI, as above).\n",
    "3) Text analysis of the complete texts of selected treaties. \n",
    "\n",
    "After some set-up sections, the discussion of the material begins at \"Part 1,\" below."
   ]
  },
  {
   "cell_type": "markdown",
   "metadata": {},
   "source": [
    "### <span style='color:blue'>**Mandatory Prepare Step**</span>: Setup Notebook and Load and Process Treaty Master Index\n",
    "The following code cell to be executed once for each user session."
   ]
  },
  {
   "cell_type": "code",
   "execution_count": null,
   "metadata": {
    "code_folding": []
   },
   "outputs": [],
   "source": [
    "# Code Cell Setup\n",
    "%load_ext autoreload\n",
    "%autoreload 2\n",
    "\n",
    "import os\n",
    "import warnings\n",
    "\n",
    "relative_root = '.' if os.path.isdir('./common') else '..'\n",
    "\n",
    "os.sys.path = os.sys.path + [ os.path.join(relative_root, x) for x in ['.', '1_quantitative_analysis', '2_network_analysis' ] if x not in os.sys.path ]\n",
    "\n",
    "warnings.filterwarnings('ignore')\n",
    "\n",
    "import common.treaty_state as treaty_state\n",
    "\n",
    "%matplotlib inline\n",
    "\n",
    "data_folder = os.path.join(relative_root, 'data')\n",
    "wti_index = treaty_state.load_wti_index(data_folder)\n"
   ]
  },
  {
   "cell_type": "markdown",
   "metadata": {},
   "source": [
    "### Example: Inline TQ By Parties Chart\n"
   ]
  },
  {
   "cell_type": "code",
   "execution_count": null,
   "metadata": {},
   "outputs": [],
   "source": [
    "import party_analysis_gui\n",
    "args = {\n",
    "    'parties': ('FINLAN', 'FRANCE'),            # Parties to include\n",
    "    'treaty_filter': 'is_cultural',             # Treaty filter (see config.TREATY_FILTER_OPTIONS)\n",
    "    'party_name': 'party_name',                 # Party name to use (see config.PARTY_NAME_OPTIONS)\n",
    "    'top_n_parties': 0,                         # Used? Filter on top parties per category\n",
    "    'extra_category': '',                       # Add 'ALL' or 'ALL_OTHER' category\n",
    "    'plot_style': 'seaborn-pastel',             # Matplotlib plot style (see MATPLOTLIB_PLOT_STYLES for valid values)\n",
    "    'wti_index': wti_index,                     # WTI index to use, assigned in SETUP CELL above\n",
    "    'period_group_index': 3,                    # Period item index in config.DEFAULT_PERIOD_GROUPS (first item has index 0)\n",
    "    'normalize_values': False,                  # Normalize each values in each category to 100%\n",
    "    'overlay': True,                            # Used? Display one chart per category\n",
    "    'chart_type_name': 'plot_stacked_bar',      # Kind of charts (see config.CHART_TYPES, attribute name for valid keys)\n",
    "    'year_limit': (1945, 1972)                  # Signed year filter\n",
    "}\n",
    "\n",
    "party_analysis_gui.display_quantity_by_party(**args)"
   ]
  },
  {
   "cell_type": "markdown",
   "metadata": {},
   "source": [
    "### Example: Inline TQ By Topics Chart"
   ]
  },
  {
   "cell_type": "code",
   "execution_count": null,
   "metadata": {},
   "outputs": [],
   "source": [
    "import topic_analysis_gui\n",
    "\n",
    "args = {\n",
    "    'chart_per_category': False,                # Overlay charts\n",
    "    'chart_type_name': 'plot_stacked_bar',      # Kind of charts (see config.CHART_TYPES, attribute name for valid keys)\n",
    "    'extra_other_category': False,              # Add 'ALL' or 'ALL_OTHER' category\n",
    "    'normalize_values': False,                  # Normalize each values in each category to 100%\n",
    "    'parties': ('FRANCE',),                     # Parties to include\n",
    "    'period_group_index': 3,                    # Period group item index in config.DEFAULT_PERIOD_GROUPS (first item has index 0)\n",
    "    'plot_style': 'seaborn-pastel',             # Matplotlib plot style (see MATPLOTLIB_PLOT_STYLES for valid values)\n",
    "    'recode_is_cultural': True,                 # Flag: recode is_cultural='Yes' to topic '7CORR'\n",
    "    'target_quantity': 'topic',                 # Target entity type: 'topic' or 'party'\n",
    "    'topic_group_name': '7CULTURE',             # Topic group name (see config.DEFAULT_TOPIC_GROUPS)\n",
    "    'wti_index': wti_index                      # WTI index to use, assigned in SETUP CELL above\n",
    "}\n",
    "topic_analysis_gui.display_topic_quantity_groups(**args)"
   ]
  },
  {
   "cell_type": "markdown",
   "metadata": {},
   "source": [
    "### Example: Inline Title Analysis Chart"
   ]
  },
  {
   "cell_type": "code",
   "execution_count": null,
   "metadata": {},
   "outputs": [],
   "source": [
    "import headnode_gui\n",
    "import headnote_corpus\n",
    "\n",
    "if wti_index.__dict__.get('headnote_corpus', None) is None:\n",
    "    wti_index.headnote_corpus = headnote_corpus.HeadnoteTokenCorpus(treaties=wti_index.treaties)\n",
    "    \n",
    "args = {\n",
    "    'compute_co_occurance': True,               # Flag: Compute co-occurrence if True, else word statistics\n",
    "    'extra_groupbys': None,                     # Not implemented\n",
    "    'min_word_size': 2,                         # Min word character length to consider\n",
    "    'n_min_count': 7,                           # Min threshold for item count (words, word pairs) per category\n",
    "    'n_top': 25,                                # Max displayed items per category\n",
    "    'output_format': 'plot_stacked_bar',        # Kind of charts (see headnote_gui.OUTPUT_OPTIONS, attribute name for valid keys)\n",
    "    'parties': ('ALL',),                        # Parties to include\n",
    "    'period_group_index': 3,                    # Period group item index in config.DEFAULT_PERIOD_GROUPS (first item has index 0)\n",
    "    'recode_is_cultural': False,                # Flag: recode is_cultural='Yes' to topic '7CORR'\n",
    "    'remove_stopwords': True,                   # Flag: remove stopwords\n",
    "    'topic_group_name': '7CORR',                # Topic group name (see config.DEFAULT_TOPIC_GROUPS)\n",
    "    'treaty_filter': 'is_cultural',             # Treaty filter (see config.TREATY_FILTER_OPTIONS)\n",
    "    'use_lemma': False,                         # Flag: lemmatize words\n",
    "    'wti_index': wti_index                      # WTI index to use, assigned in SETUP CELL above\n",
    "}\n",
    "headnode_gui.display_headnote_toplist(**args)"
   ]
  },
  {
   "cell_type": "code",
   "execution_count": null,
   "metadata": {},
   "outputs": [],
   "source": [
    "import common.utility as utility\n",
    "import network_analysis_gui\n",
    "from bokeh.plotting import output_notebook\n",
    "\n",
    "output_notebook()\n",
    "    \n",
    "args = {\n",
    "    'C': 1,\n",
    "    'K': 0.1,\n",
    "    'height': 700,\n",
    "    'layout_algorithm': 'nx_spring_layout',\n",
    "    'node_partition': None,\n",
    "    'node_size': None,\n",
    "    'node_size_range': (20, 49),\n",
    "    'output': 'network',\n",
    "    'p1': 1.1,\n",
    "    'palette_name': None,\n",
    "    'parties': ('FRANCE', 'ITALY', 'UK', 'GERM'),\n",
    "    'party_name': 'party_name',\n",
    "    'period_group_index': 3,\n",
    "    'plot_data': None,\n",
    "    'recode_is_cultural': True,\n",
    "    'topic_group': {'7CORR': '7CORR'},\n",
    "    'treaty_filter': 'is_cultural',\n",
    "    'year_limit': (1945, 1950),\n",
    "    'width': 900,\n",
    "    'wti_index': wti_index\n",
    "}\n",
    "\n",
    "network_analysis_gui.display_party_network(**args)"
   ]
  },
  {
   "cell_type": "code",
   "execution_count": null,
   "metadata": {},
   "outputs": [],
   "source": []
  }
 ],
 "metadata": {
  "kernelspec": {
   "display_name": "Python 3.5.3 64-bit (global)",
   "language": "python",
   "name": "python35364bitac78f14cccca4bb9a0fa0f578004b4e9"
  },
  "language_info": {
   "codemirror_mode": {
    "name": "ipython",
    "version": 3
   },
   "file_extension": ".py",
   "mimetype": "text/x-python",
   "name": "python",
   "nbconvert_exporter": "python",
   "pygments_lexer": "ipython3",
   "version": "3.5.3-final"
  },
  "toc": {
   "base_numbering": 1,
   "nav_menu": {},
   "number_sections": false,
   "sideBar": false,
   "skip_h1_title": false,
   "title_cell": "Table of Contents",
   "title_sidebar": "Contents",
   "toc_cell": false,
   "toc_position": {},
   "toc_section_display": false,
   "toc_window_display": false
  },
  "varInspector": {
   "cols": {
    "lenName": 16,
    "lenType": 16,
    "lenVar": 40
   },
   "kernels_config": {
    "python": {
     "delete_cmd_postfix": "",
     "delete_cmd_prefix": "del ",
     "library": "var_list.py",
     "varRefreshCmd": "print(var_dic_list())"
    },
    "r": {
     "delete_cmd_postfix": ") ",
     "delete_cmd_prefix": "rm(",
     "library": "var_list.r",
     "varRefreshCmd": "cat(var_dic_list()) "
    }
   },
   "oldHeight": 655.4,
   "position": {
    "height": "886px",
    "left": "1049px",
    "right": "20px",
    "top": "110px",
    "width": "654px"
   },
   "types_to_exclude": [
    "module",
    "function",
    "builtin_function_or_method",
    "instance",
    "_Feature"
   ],
   "varInspector_section_display": "block",
   "window_display": false
  }
 },
 "nbformat": 4,
 "nbformat_minor": 2
}