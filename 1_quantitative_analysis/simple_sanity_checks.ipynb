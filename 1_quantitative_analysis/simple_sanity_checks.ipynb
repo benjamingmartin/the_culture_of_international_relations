{
 "cells": [
  {
   "cell_type": "markdown",
   "metadata": {},
   "source": [
    "### Sanity Checks: Per field (pair) value counts"
   ]
  },
  {
   "cell_type": "code",
   "execution_count": null,
   "metadata": {
    "code_folding": [
     0,
     25
    ]
   },
   "outputs": [],
   "source": [
    "# Code\n",
    "import os\n",
    "import ipywidgets as widgets\n",
    "from IPython.display import display, HTML\n",
    "\n",
    "\n",
    "os.sys.path = os.sys.path if '..' in os.sys.path else os.sys.path + ['..']\n",
    "\n",
    "from common.treaty_state import load_treaty_state\n",
    "\n",
    "state = load_treaty_state('../data')\n",
    "\n",
    "treaty_fields = [\n",
    "    '', 'is_cultural_yesno', 'source', 'party1', 'party2', 'laterality',\n",
    "    'headnote', 'topic', 'topic1', 'topic2', 'title', 'signed_year', 'signed_period', 'signed_period_alt', 'is_cultural'\n",
    "]    \n",
    "\n",
    "def display_variable_stats(field1, field2, crosstab):\n",
    "    \n",
    "    columns = [ x for x in set([field1, field2 ]) if x != '' ]\n",
    "    \n",
    "    if len(columns) > 0:\n",
    "        df = state.treaties.groupby(columns).size().reset_index()\\\n",
    "            .rename(columns={0: 'Count'})\\\n",
    "            .sort_values(['Count'], ascending=False)\n",
    "            \n",
    "        if crosstab is True:\n",
    "            if len(columns) == 2:\n",
    "                display(pd.crosstab(df[field1], df[field1]))\n",
    "            else:\n",
    "                print('Both fields are needed for crosstab')\n",
    "        else:\n",
    "            display(HTML(df.to_html()))\n",
    "        # df.set_index(columns).plot.bar(figsize=(16,8))\n",
    "\n",
    "def sanity_check_main():\n",
    "    \n",
    "    field1 = widgets.Dropdown(\n",
    "        options=treaty_fields,\n",
    "        value='',\n",
    "        description='Field #1:',\n",
    "        disabled=False\n",
    "    )\n",
    "    field2 = widgets.Dropdown(\n",
    "        options=treaty_fields,\n",
    "        value='',\n",
    "        description='Field #2:',\n",
    "        disabled=False\n",
    "    )\n",
    "    crosstab=widgets.ToggleButton(\n",
    "        description='Crosstab',\n",
    "        button_style='',\n",
    "        icon='check'\n",
    "    )\n",
    "\n",
    "    isw = widgets.interactive(display_variable_stats, field1=field1, field2=field2, crosstab=crosstab)\n",
    "\n",
    "    display(widgets.VBox([widgets.HBox([field1, field2, crosstab]), isw.children[-1]]))\n",
    "\n",
    "    isw.update()\n",
    "    \n",
    "sanity_check_main()\n"
   ]
  },
  {
   "cell_type": "code",
   "execution_count": null,
   "metadata": {},
   "outputs": [],
   "source": []
  }
 ],
 "metadata": {
  "kernelspec": {
   "display_name": "Python 3",
   "language": "python",
   "name": "python3"
  },
  "language_info": {
   "codemirror_mode": {
    "name": "ipython",
    "version": 3
   },
   "file_extension": ".py",
   "mimetype": "text/x-python",
   "name": "python",
   "nbconvert_exporter": "python",
   "pygments_lexer": "ipython3",
   "version": "3.7.2"
  },
  "varInspector": {
   "cols": {
    "lenName": 16,
    "lenType": 16,
    "lenVar": 40
   },
   "kernels_config": {
    "python": {
     "delete_cmd_postfix": "",
     "delete_cmd_prefix": "del ",
     "library": "var_list.py",
     "varRefreshCmd": "print(var_dic_list())"
    },
    "r": {
     "delete_cmd_postfix": ") ",
     "delete_cmd_prefix": "rm(",
     "library": "var_list.r",
     "varRefreshCmd": "cat(var_dic_list()) "
    }
   },
   "oldHeight": 655.4,
   "position": {
    "height": "886px",
    "left": "1049px",
    "right": "20px",
    "top": "110px",
    "width": "654px"
   },
   "types_to_exclude": [
    "module",
    "function",
    "builtin_function_or_method",
    "instance",
    "_Feature"
   ],
   "varInspector_section_display": "block",
   "window_display": false
  }
 },
 "nbformat": 4,
 "nbformat_minor": 2
}
