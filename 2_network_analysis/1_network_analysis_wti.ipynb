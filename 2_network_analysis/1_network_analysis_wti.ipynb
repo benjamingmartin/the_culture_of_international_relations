{
 "cells": [
  {
   "cell_type": "markdown",
   "metadata": {},
   "source": [
    "### The Culture of International Relations\n",
    "\n",
    "#### About this project\n",
    "Cultural treaties are the bi-lateral and multilateral agreements among states that promote and regulate cooperation and exchange in the fields of life generally call cultural or intellectual. Although it was only invented in the early twentieth century, this treaty type came to be the fourth most common bilateral treaty in the period 1900-1980 (Poast et al., 2010). In this project, we seek to use several (mostly European) states’ cultural treaties as a historical source with which to explore the emergence of a global concept of culture in the twentieth century. Specifically, the project will investigate the hypothesis that the culture concept, in contrast to earlier ideas of civilization, played a key role in the consolidation of the post-World War II international order.\n",
    "\n",
    "The central questions that interest me here can be divided into two groups: \n",
    "- First, what is the story of the cultural treaty, as a specific tool of international relations, in the twentieth century? What was the historical curve of cultural treaty-making? For example, in which political or ideological constellations do we find (the most) use of cultural treaties? Among which countries, in which historical periods? What networks of relations were thereby created, reinforced, or challenged? \n",
    "- Second, what is the \"culture\" addressed in these treaties? That is, what do the two signatories seem to mean by \"culture\" in these documents, and what does that tell us about the role that concept played in the international system? How can quantitative work on this dataset advance research questions about the history of concepts?\n",
    "\n",
    "In this notebook, we deal with these treaties in three ways:\n",
    "1) quantitative analysis of \"metadata\" about all bilateral cultural treaties signed betweeen 1919 and 1972, as found in the World Treaty Index or WTI (Poast et al., 2010).\n",
    "    For more on how exactly we define a \"cultural treaty\" here, and on other principles of selection, see... [add this, using text now in \"WTI quality assurance\"].\n",
    "2) network analysis of the system of international relationships created by these treaties (using data from WTI, as above).\n",
    "3) Text analysis of the complete texts of selected treaties. \n",
    "\n",
    "After some set-up sections, the discussion of the material begins at \"Part 1,\" below."
   ]
  },
  {
   "cell_type": "markdown",
   "metadata": {},
   "source": [
    "### <span style='color:blue'>**Mandatory Prepare Step**</span>: Setup Notebook\n",
    "Setup HTML appearance."
   ]
  },
  {
   "cell_type": "code",
   "execution_count": null,
   "metadata": {
    "code_folding": []
   },
   "outputs": [],
   "source": [
    "%%html\n",
    "<style>\n",
    ".widget-vbox .widget-label {width: 60px; }\n",
    ".widget-toggle-button { width: 100px; }\n",
    ".jupyter-widgets { font-size: 8pt; }\n",
    ".widget-label { font-size: 8pt;}\n",
    ".widget-vbox .widget-label { width: 60px; }\n",
    ".widget-dropdown select { font-size: 8pt; width: 102px; }\n",
    ".widget-select > select { font-size: 8pt; }\n",
    ".widget-toggle-buttons .widget-toggle-button { font-size: 8pt; }\n",
    ".widget-inline-hbox .widget-readout {\n",
    "    min-width: 50px;\n",
    "    font-size: 8pt;\n",
    "    margin-left: 2px;\n",
    "    text-align: left;\n",
    "    vertical-align: top;}\n",
    ".widget-readout.overflow { box-shadow: none; }\n",
    ".widget-slider, .widget-hslider { width: 200px; height: 18px; }\n",
    "</style>"
   ]
  },
  {
   "cell_type": "code",
   "execution_count": null,
   "metadata": {
    "code_folding": []
   },
   "outputs": [],
   "source": [
    "# Setup\n",
    "%load_ext autoreload\n",
    "%autoreload 2\n",
    "# button[title*='7CORR'] { margin-left: 71px; }\n",
    "\n",
    "import os\n",
    "from bokeh.plotting import output_notebook\n",
    "os.sys.path = os.sys.path if '..' in os.sys.path else os.sys.path + ['..']\n",
    "\n",
    "import network_analysis_gui\n",
    "import common.treaty_state as treaty_repository\n",
    "\n",
    "WTI_INDEX = treaty_repository.load_wti_index('../data')\n",
    "\n",
    "WTI_INDEX.check_party()\n",
    "\n",
    "output_notebook()\n"
   ]
  },
  {
   "cell_type": "markdown",
   "metadata": {},
   "source": [
    "### Party Network\n"
   ]
  },
  {
   "cell_type": "code",
   "execution_count": null,
   "metadata": {
    "code_folding": [],
    "scrolled": false
   },
   "outputs": [],
   "source": [
    "# Visualize treaties\n",
    "import common.utility as utility\n",
    "import network_analysis_gui\n",
    "\n",
    "plot_data = utility.SimpleStruct(handle=None, nodes=None, edges=None, slice_range_type=2, slice_range=(1900, 2000))\n",
    "\n",
    "network_analysis_gui.display_network_analyis_gui(WTI_INDEX, plot_data)\n"
   ]
  },
  {
   "cell_type": "code",
   "execution_count": null,
   "metadata": {},
   "outputs": [],
   "source": []
  }
 ],
 "metadata": {
  "kernelspec": {
   "display_name": "Python 3",
   "language": "python",
   "name": "python3"
  },
  "language_info": {
   "codemirror_mode": {
    "name": "ipython",
    "version": 3
   },
   "file_extension": ".py",
   "mimetype": "text/x-python",
   "name": "python",
   "nbconvert_exporter": "python",
   "pygments_lexer": "ipython3",
   "version": "3.5.3"
  },
  "toc": {
   "base_numbering": 1,
   "nav_menu": {},
   "number_sections": false,
   "sideBar": false,
   "skip_h1_title": false,
   "title_cell": "Table of Contents",
   "title_sidebar": "Contents",
   "toc_cell": false,
   "toc_position": {},
   "toc_section_display": false,
   "toc_window_display": false
  },
  "varInspector": {
   "cols": {
    "lenName": 16,
    "lenType": 16,
    "lenVar": 40
   },
   "kernels_config": {
    "python": {
     "delete_cmd_postfix": "",
     "delete_cmd_prefix": "del ",
     "library": "var_list.py",
     "varRefreshCmd": "print(var_dic_list())"
    },
    "r": {
     "delete_cmd_postfix": ") ",
     "delete_cmd_prefix": "rm(",
     "library": "var_list.r",
     "varRefreshCmd": "cat(var_dic_list()) "
    }
   },
   "oldHeight": 655.4,
   "position": {
    "height": "886px",
    "left": "1049px",
    "right": "20px",
    "top": "110px",
    "width": "654px"
   },
   "types_to_exclude": [
    "module",
    "function",
    "builtin_function_or_method",
    "instance",
    "_Feature"
   ],
   "varInspector_section_display": "block",
   "window_display": false
  }
 },
 "nbformat": 4,
 "nbformat_minor": 2
}
