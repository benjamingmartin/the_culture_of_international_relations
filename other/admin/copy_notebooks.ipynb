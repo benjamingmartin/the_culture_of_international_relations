{
 "cells": [
  {
   "cell_type": "markdown",
   "metadata": {},
   "source": [
    "### <span style='color:green'>**Optional Prepare Step**</span>: Update Notebook to Latest Version\n",
    "Use this notebook if you want to update any other notebook to the latest version.\n",
    "Please note that the files a copied from the curent development source directory which can be work in progress.\n",
    "Future versions of this script will update scripts from the latest version in GitHub.\n",
    "<br>\n",
    "Please stop and close any open notebooks that you want to update. You can shutdown running notebooks in the Jupyter dashboard \"Running\" tab.\n",
    "\n",
    "** TODO: Print timestamp or warning that notebook is outdated **"
   ]
  },
  {
   "cell_type": "code",
   "execution_count": 44,
   "metadata": {
    "code_folding": []
   },
   "outputs": [
    {
     "data": {
      "application/vnd.jupyter.widget-view+json": {
       "model_id": "4172826c3bcd431e9bde5ef54c783187",
       "version_major": 2,
       "version_minor": 0
      },
      "text/plain": [
       "VBox(children=(HBox(children=(Dropdown(description='Folder:', layout=Layout(width='400px'), options=('1_quanti…"
      ]
     },
     "metadata": {},
     "output_type": "display_data"
    }
   ],
   "source": [
    "# Code: Update WTI master data from Google Drive\n",
    "\n",
    "import os\n",
    "os.sys.path = os.sys.path if '..' in os.sys.path else os.sys.path + ['..']\n",
    "\n",
    "import shutil\n",
    "import glob\n",
    "import logging\n",
    "import zipfile\n",
    "import time\n",
    "import ipywidgets as widgets \n",
    "\n",
    "from common.widgets_utility import BaseWidgetUtility\n",
    "\n",
    "root_source_folder = '/home/roger/notebooks/the_culture_of_international_relations'\n",
    "\n",
    "source_folders = [\n",
    "    '1_quantitative_analysis',\n",
    "    '2_network_analysis',\n",
    "    '3_text_analysis'\n",
    "]\n",
    "    \n",
    "logging.getLogger().setLevel(logging.INFO)\n",
    "logger = logging.getLogger()\n",
    "logger.setLevel(logging.INFO)\n",
    "\n",
    "def ts_data_path(self, filename):\n",
    "    return os.path.join(self.directory, '{}_{}'.format(time.strftime(\"%Y%m%d%H%M\"), filename))\n",
    "\n",
    "def data_path_ts(self, path):\n",
    "    basename, extension = os.path.splitext(path)\n",
    "    return os.path.join(self.directory, '{}_{}{}'.format(basename, time.strftime(\"%Y%m%d%H%M\"), extension))\n",
    "\n",
    "def get_notebook_filenames(folder, extension='ipynb'):\n",
    "    '''  Returns a list of files found in given folder '''\n",
    "    return [ os.path.split(x)[1] for x in glob.glob(os.path.join(folder, '*.{}'.format(extension))) ]\n",
    "\n",
    "def get_sourcefiles_to_archive(folder='../*/**/', extensions='ipynb;py'):\n",
    "    '''  Returns a list of files found in given folder '''\n",
    "    filenames = []\n",
    "    for extension in extensions.split(';'):\n",
    "        filenames += glob.iglob(os.path.join(folder, '*.' + extension))\n",
    "    return filenames\n",
    "\n",
    "def archive_sourcefiles():\n",
    "    target_file = './backup/{}_source_code.zip'.format(time.strftime(\"%Y%m%d%H%M\"))\n",
    "    with zipfile.ZipFile(target_file, \"w\", zipfile.ZIP_DEFLATED) as zip:\n",
    "        for source_file in get_sourcefiles_to_archive():\n",
    "            zip.write(source_file, os.path.basename(source_file))\n",
    "    return target_file\n",
    "\n",
    "def copy_source_files_in_folder(source_folder, destination_folder, pattern):\n",
    "    for filename in glob.glob(os.path.join(source_folder, pattern)):\n",
    "        try:\n",
    "            shutil.copy(filename, destination_folder)\n",
    "            print(\"Updated {}\".format(os.path.split(filename)[1]))\n",
    "        except shutil.SameFileError as ex:\n",
    "            print(\"Unchanged: {} (skipped)\".format(os.path.split(filename)[1]))\n",
    "    print('Done updating folder {}'.format(os.path.split(destination_folder)[1]))\n",
    "\n",
    "def update_notebook(folder, confirm, root_folder, copy_python_files=True):\n",
    "    global upw\n",
    "    if folder is None:\n",
    "        return\n",
    "    \n",
    "    if confirm is False:\n",
    "        print('Please confirm update by checking the CONFIRM button!')\n",
    "        return\n",
    "    \n",
    "    # target_archive = archive_sourcefiles()\n",
    "    # print('  Current version stored in {}.'.format(target_archive))\n",
    "    \n",
    "    copy_source_files_in_folder(os.path.join(root_folder, folder), os.path.join('../', folder), '*.py')\n",
    "    copy_source_files_in_folder(os.path.join(root_folder, folder), os.path.join('../', folder), '*.ipynb')\n",
    "    \n",
    "    if copy_python_files:\n",
    "        copy_source_files_in_folder(os.path.join(root_folder, \"common\"), '../common', '*.py')\n",
    "        print('  Python source files updated.')\n",
    "        \n",
    "    upw.folder.value = None\n",
    "    upw.confirm.value = False\n",
    "    \n",
    "\n",
    "upw = BaseWidgetUtility(\n",
    "    folder=widgets.Dropdown(\n",
    "        options=source_folders,\n",
    "        value=None,\n",
    "        description='Folder:',\n",
    "        layout=widgets.Layout(width='400px')\n",
    "    ),\n",
    "    confirm=widgets.ToggleButton(\n",
    "        description='Confirm',\n",
    "        button_style='',\n",
    "        icon='check',\n",
    "        value=False\n",
    "    ),)\n",
    "iupw = widgets.interactive(update_notebook, folder=upw.folder, confirm=upw.confirm, root_folder=root_source_folder)\n",
    "display(widgets.VBox([widgets.HBox([upw.folder, upw.confirm]), iupw.children[-1]]))\n",
    "# iupw.update()\n",
    "\n"
   ]
  }
 ],
 "metadata": {
  "kernelspec": {
   "display_name": "Python 3",
   "language": "python",
   "name": "python3"
  },
  "language_info": {
   "codemirror_mode": {
    "name": "ipython",
    "version": 3
   },
   "file_extension": ".py",
   "mimetype": "text/x-python",
   "name": "python",
   "nbconvert_exporter": "python",
   "pygments_lexer": "ipython3",
   "version": "3.5.3"
  },
  "varInspector": {
   "cols": {
    "lenName": 16,
    "lenType": 16,
    "lenVar": 40
   },
   "kernels_config": {
    "python": {
     "delete_cmd_postfix": "",
     "delete_cmd_prefix": "del ",
     "library": "var_list.py",
     "varRefreshCmd": "print(var_dic_list())"
    },
    "r": {
     "delete_cmd_postfix": ") ",
     "delete_cmd_prefix": "rm(",
     "library": "var_list.r",
     "varRefreshCmd": "cat(var_dic_list()) "
    }
   },
   "oldHeight": 655.4,
   "position": {
    "height": "886px",
    "left": "1049px",
    "right": "20px",
    "top": "110px",
    "width": "654px"
   },
   "types_to_exclude": [
    "module",
    "function",
    "builtin_function_or_method",
    "instance",
    "_Feature"
   ],
   "varInspector_section_display": "block",
   "window_display": false
  }
 },
 "nbformat": 4,
 "nbformat_minor": 2
}
