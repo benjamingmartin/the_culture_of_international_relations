{
 "cells": [
  {
   "cell_type": "markdown",
   "metadata": {},
   "source": [
    "## The Culture of International Relations - Text Analysis\n",
    "### <span style='color: green'>SETUP </span> Prepare and Setup Notebook <span style='float: right; color: red'>MANDATORY</span>"
   ]
  },
  {
   "cell_type": "code",
   "execution_count": null,
   "metadata": {
    "code_folding": []
   },
   "outputs": [],
   "source": [
    "# Setup\n",
    "%load_ext autoreload\n",
    "%autoreload 2\n",
    "\n",
    "import sys\n",
    "import ipywidgets as widgets\n",
    "\n",
    "sys.path = list(set(['..', '../3_text_analysis']) - set(sys.path)) + sys.path\n",
    "\n",
    "import matplotlib.pyplot as plt\n",
    "import common.utility as utility\n",
    "import common.treaty_utility as treaty_utility\n",
    "import common.treaty_state as treaty_repository\n",
    "import common.config as config\n",
    "import treaty_corpus\n",
    "import textacy_corpus_utility as textacy_utility\n",
    "#from beakerx.object import beakerx\n",
    "#from beakerx import *\n",
    "from IPython.display import display, set_matplotlib_formats\n",
    "\n",
    "logger = utility.getLogger('corpus_text_analysis')\n",
    "\n",
    "treaty_repository.load_wti_index_with_gui(data_folder=config.DATA_FOLDER)\n",
    "\n",
    "%matplotlib inline"
   ]
  },
  {
   "cell_type": "markdown",
   "metadata": {},
   "source": [
    "### Create \"LTS+UNTS GCAs, 1935-1972\" corpus\n",
    "See https://github.com/humlab/the_culture_of_international_relations/issues/28"
   ]
  },
  {
   "cell_type": "code",
   "execution_count": null,
   "metadata": {
    "tags": []
   },
   "outputs": [],
   "source": [
    "import zipfile\n",
    "\n",
    "def get_treaty_subset(column_name):\n",
    "\n",
    "    treaties = treaty_repository.current_wti_index().treaties\n",
    "    treaties = treaties.loc[(treaties[column_name] == 'yes')]\n",
    "    treaties = treaties.loc[treaties.english == 'en']\n",
    "    treaties = treaties.loc[treaties.signed_year.isin(range(1935, 1973))]\n",
    "\n",
    "    return treaties\n",
    "    \n",
    "def extract_corpus_treaties(source_filename, treaties):\n",
    "\n",
    "    with zipfile.ZipFile(source_filename, \"r\") as zf_in:\n",
    "\n",
    "        filenames = zf_in.namelist()\n",
    "\n",
    "        for treaty_id in treaties.index:\n",
    "\n",
    "            treaty_filenames = [ filename for filename in filenames if filename.startswith(treaty_id) ]\n",
    "\n",
    "            if len(treaty_filenames) == 1:\n",
    "                content = zf_in.read(treaty_filenames[0]).decode('utf-8')\n",
    "                yield treaty_id, treaty_filenames[0], content\n",
    "            else:\n",
    "                print(\"NOT FOUND OR DUPLICATE: {}\".format(treaty_id))\n",
    "\n",
    "def store_sub_corpus(source_filename, treaties, target_filename):\n",
    "\n",
    "    with zipfile.ZipFile(target_filename, \"w\") as zf_out:\n",
    "        for treaty_id, filename, content in extract_corpus_treaties(source_filename, treaties):\n",
    "            zf_out.writestr(filename, content)\n",
    "\n",
    "source_filename = '../data/treaty_texts.zip'\n",
    "for column_name in [ 'is_cultural_yesno_org' ]\n",
    "    treaties = get_treaty_subset(column_name)\n",
    "    target_filename = \"20200701_{}\".format(column_name.split('_')[-1].upper())\n",
    "    store_sub_corpus(source_filename, treaties, target_filename)\n"
   ]
  },
  {
   "cell_type": "code",
   "execution_count": null,
   "metadata": {
    "tags": [
     "outputPrepend"
    ]
   },
   "outputs": [],
   "source": [
    "import sys\n",
    "import os\n",
    "if '..' not in sys.path: sys.path.append('..')\n",
    "\n",
    "#from common.treaty_state import load_wti_index\n",
    "#wti_index = load_wti_index('../data/')\n",
    "\n",
    "import treaty_corpus\n",
    "\n",
    "source_folder = '../data'\n",
    "#source_file = 'treaty_text_corpora_en_201908.zip'\n",
    "source_file = 'Treaty texts (.txt) (finished).zip'\n",
    "source_path = os.path.join(source_folder, source_file)\n",
    "\n",
    "treaties = treaty_repository.current_wti_index().treaties\n",
    "treaties = treaties.loc[(treaties.is_cultural_yesno_org == 'yes') | (treaties.is_cultural_yesno_gen == 'yes') | (treaties.is_cultural_yesno_plus == 'yes')]\n",
    "treaties = treaties.loc[treaties.english == 'en']\n",
    "treaties = treaties.loc[treaties.signed_year.isin(range(1935, 1973))]\n",
    "\n",
    "# corpus_stream = treaty_corpus.TreatyCompressedFileReader(source_path, 'en', list(treaties.index))\n",
    "# corpus = treaty_corpus.TreatyCorpus(corpus_stream)\n"
   ]
  },
  {
   "cell_type": "markdown",
   "metadata": {},
   "source": [
    "### Compile \"LTS+UNTS GCAs, 1935-1972\" corpus"
   ]
  },
  {
   "cell_type": "code",
   "execution_count": null,
   "metadata": {
    "tags": [
     "outputPrepend",
     "outputPrepend"
    ]
   },
   "outputs": [],
   "source": [
    "import glob\n",
    "import shutil\n",
    "folder = \"20200630_LTS+UNTS_GCAs_1935-1972\"\n",
    "\n",
    "for treaty_id in treaties.index:\n",
    "    filepattern = os.path.join(source_folder, folder, \"{}_en*.txt\".format(treaty_id))\n",
    "    filenames = glob.glob(filepattern)\n",
    "    if len(filenames) == 1:        \n",
    "        #print(\"file found: {}\".format(filenames[0]))\n",
    "        shutil.move(filenames[0], os.path.join(source_folder, folder, \"compiled\", os.path.split(filenames[0])[1]))\n",
    "    elif len(filenames) == 0:\n",
    "        print(\"missing file: {}\".format(treaty_id))\n",
    "    else:\n",
    "        print(\"duplicate: {}\".format(treaty_id))\n",
    "\n",
    "        "
   ]
  },
  {
   "cell_type": "markdown",
   "metadata": {},
   "source": [
    "## Rename files in archive\n",
    "Add signed year to filenames in zip archive"
   ]
  },
  {
   "cell_type": "code",
   "execution_count": null,
   "metadata": {},
   "outputs": [],
   "source": [
    "import zipfile\n",
    "with zipfile.ZipFile('../data/tCoIR_en_45-72_renamed.txt.zip', 'w', compression=zipfile.ZIP_DEFLATED) as new_zipfile:\n",
    "    with zipfile.ZipFile('../data/tCoIR_en_45-72.txt.zip') as old_zipfile:\n",
    "        for filename in old_zipfile.namelist():\n",
    "            treaty_id = filename.split('_')[0]\n",
    "            signed_year = treaty_repository.current_wti_index().treaties.loc[treaty_id]['signed_year']\n",
    "            new_filename = '{}_{}'.format(signed_year, filename)\n",
    "            with old_zipfile.open(filename) as textfile:\n",
    "                content = textfile.read()\n",
    "            new_zipfile.writestr(new_filename, content)"
   ]
  }
 ],
 "metadata": {
  "kernelspec": {
   "display_name": "Python 3.5.3 64-bit ('.venv': virtualenv)",
   "language": "python",
   "name": "python_defaultSpec_1593598272226"
  },
  "language_info": {
   "codemirror_mode": {
    "name": "ipython",
    "version": 3
   },
   "file_extension": ".py",
   "mimetype": "text/x-python",
   "name": "python",
   "nbconvert_exporter": "python",
   "pygments_lexer": "ipython3",
   "version": "3.5.3-final"
  },
  "toc": {
   "base_numbering": 1,
   "nav_menu": {},
   "number_sections": false,
   "sideBar": false,
   "skip_h1_title": false,
   "title_cell": "Table of Contents",
   "title_sidebar": "Contents",
   "toc_cell": false,
   "toc_position": {},
   "toc_section_display": false,
   "toc_window_display": false
  },
  "varInspector": {
   "cols": {
    "lenName": 16,
    "lenType": 16,
    "lenVar": 40
   },
   "kernels_config": {
    "python": {
     "delete_cmd_postfix": "",
     "delete_cmd_prefix": "del ",
     "library": "var_list.py",
     "varRefreshCmd": "print(var_dic_list())"
    },
    "r": {
     "delete_cmd_postfix": ") ",
     "delete_cmd_prefix": "rm(",
     "library": "var_list.r",
     "varRefreshCmd": "cat(var_dic_list()) "
    }
   },
   "oldHeight": 655.4,
   "position": {
    "height": "886px",
    "left": "1049px",
    "right": "20px",
    "top": "110px",
    "width": "654px"
   },
   "types_to_exclude": [
    "module",
    "function",
    "builtin_function_or_method",
    "instance",
    "_Feature"
   ],
   "varInspector_section_display": "block",
   "window_display": false
  }
 },
 "nbformat": 4,
 "nbformat_minor": 2
}