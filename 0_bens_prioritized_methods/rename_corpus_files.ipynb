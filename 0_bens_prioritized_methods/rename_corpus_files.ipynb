{
 "cells": [
  {
   "cell_type": "markdown",
   "metadata": {},
   "source": [
    "## The Culture of International Relations - Text Analysis\n",
    "### <span style='color: green'>SETUP </span> Prepare and Setup Notebook <span style='float: right; color: red'>MANDATORY</span>"
   ]
  },
  {
   "cell_type": "code",
   "execution_count": null,
   "metadata": {
    "code_folding": []
   },
   "outputs": [],
   "source": [
    "# Setup\n",
    "%load_ext autoreload\n",
    "%autoreload 2\n",
    "\n",
    "import sys\n",
    "import ipywidgets as widgets\n",
    "\n",
    "sys.path = list(set(['..', '../3_text_analysis']) - set(sys.path)) + sys.path\n",
    "\n",
    "import matplotlib.pyplot as plt\n",
    "import common.utility as utility\n",
    "import common.treaty_utility as treaty_utility\n",
    "import common.treaty_state as treaty_repository\n",
    "import common.config as config\n",
    "import treaty_corpus\n",
    "import textacy_corpus_utility as textacy_utility\n",
    "#from beakerx.object import beakerx\n",
    "#from beakerx import *\n",
    "from IPython.display import display, set_matplotlib_formats\n",
    "\n",
    "logger = utility.getLogger('corpus_text_analysis')\n",
    "\n",
    "treaty_repository.load_wti_index_with_gui(data_folder=config.DATA_FOLDER)\n",
    "\n",
    "%matplotlib inline"
   ]
  },
  {
   "cell_type": "code",
   "execution_count": null,
   "metadata": {
    "tags": [
     "outputPrepend"
    ]
   },
   "outputs": [],
   "source": [
    "# Create \"LTS+UNTS GCAs, 1935-1972\"\n",
    "# See https://github.com/humlab/the_culture_of_international_relations/issues/28\n",
    "\n",
    "import sys\n",
    "import os\n",
    "if '..' not in sys.path: sys.path.append('..')\n",
    "\n",
    "#from common.treaty_state import load_wti_index\n",
    "#wti_index = load_wti_index('../data/')\n",
    "\n",
    "import treaty_corpus\n",
    "\n",
    "source_folder = '../data'\n",
    "#source_file = 'treaty_text_corpora_en_201908.zip'\n",
    "source_file = 'Treaty texts (.txt) (finished).zip'\n",
    "source_path = os.path.join(source_folder, source_file)\n",
    "\n",
    "treaties = treaty_repository.current_wti_index().treaties\n",
    "treaties = treaties.loc[treaties.is_cultural_yesno_gen == 'yes']\n",
    "treaties = treaties.loc[treaties.english == 'en']\n",
    "treaties = treaties.loc[treaties.signed_year.isin(range(1935, 1973))]\n",
    "\n",
    "# FIXED: Missing (304113, 304426, 303720, 10707, 304347, 200212, 304172, 303759, 304520, 104350, 200215, 200225, 304400)\n",
    "# Treaties not found in archive: 10707\n",
    "\n",
    "corpus_stream = treaty_corpus.TreatyCompressedFileReader(source_path, 'en', list(treaties.index))\n",
    "corpus = treaty_corpus.TreatyCorpus(corpus_stream)"
   ]
  },
  {
   "cell_type": "code",
   "execution_count": null,
   "metadata": {
    "tags": [
     "outputPrepend",
     "outputPrepend"
    ]
   },
   "outputs": [],
   "source": [
    "# Compile \"LTS+UNTS GCAs, 1935-1972\" corpus\n",
    "\n",
    "import glob\n",
    "import shutil\n",
    "folder = \"LTS+UNTS_GCAs_1935-1972_20200603\"\n",
    "\n",
    "for treaty_id in treaties.index:\n",
    "    filepattern = os.path.join(source_folder, folder, \"{}_en*.txt\".format(treaty_id))\n",
    "    filenames = glob.glob(filepattern)\n",
    "    if len(filenames) == 1:        \n",
    "        #print(\"file found: {}\".format(filenames[0]))\n",
    "        shutil.move(filenames[0], os.path.join(source_folder, folder, \"compiled\", os.path.split(filenames[0])[1]))\n",
    "    elif len(filenames) == 0:\n",
    "        print(\"missing file: {}\".format(treaty_id))\n",
    "    else:\n",
    "        print(\"duplicate: {}\".format(treaty_id))\n"
   ]
  },
  {
   "cell_type": "code",
   "execution_count": null,
   "metadata": {},
   "outputs": [],
   "source": [
    "import zipfile\n",
    "with zipfile.ZipFile('../data/tCoIR_en_45-72_renamed.txt.zip', 'w', compression=zipfile.ZIP_DEFLATED) as new_zipfile:\n",
    "    with zipfile.ZipFile('../data/tCoIR_en_45-72.txt.zip') as old_zipfile:\n",
    "        for filename in old_zipfile.namelist():\n",
    "            treaty_id = filename.split('_')[0]\n",
    "            signed_year = treaty_repository.current_wti_index().treaties.loc[treaty_id]['signed_year']\n",
    "            new_filename = '{}_{}'.format(signed_year, filename)\n",
    "            with old_zipfile.open(filename) as textfile:\n",
    "                content = textfile.read()\n",
    "            new_zipfile.writestr(new_filename, content)"
   ]
  }
 ],
 "metadata": {
  "kernelspec": {
   "display_name": "Python 3.5.3 64-bit (global)",
   "language": "python",
   "name": "python35364bitac78f14cccca4bb9a0fa0f578004b4e9"
  },
  "language_info": {
   "codemirror_mode": {
    "name": "ipython",
    "version": 3
   },
   "file_extension": ".py",
   "mimetype": "text/x-python",
   "name": "python",
   "nbconvert_exporter": "python",
   "pygments_lexer": "ipython3",
   "version": "3.5.3-final"
  },
  "toc": {
   "base_numbering": 1,
   "nav_menu": {},
   "number_sections": false,
   "sideBar": false,
   "skip_h1_title": false,
   "title_cell": "Table of Contents",
   "title_sidebar": "Contents",
   "toc_cell": false,
   "toc_position": {},
   "toc_section_display": false,
   "toc_window_display": false
  },
  "varInspector": {
   "cols": {
    "lenName": 16,
    "lenType": 16,
    "lenVar": 40
   },
   "kernels_config": {
    "python": {
     "delete_cmd_postfix": "",
     "delete_cmd_prefix": "del ",
     "library": "var_list.py",
     "varRefreshCmd": "print(var_dic_list())"
    },
    "r": {
     "delete_cmd_postfix": ") ",
     "delete_cmd_prefix": "rm(",
     "library": "var_list.r",
     "varRefreshCmd": "cat(var_dic_list()) "
    }
   },
   "oldHeight": 655.4,
   "position": {
    "height": "886px",
    "left": "1049px",
    "right": "20px",
    "top": "110px",
    "width": "654px"
   },
   "types_to_exclude": [
    "module",
    "function",
    "builtin_function_or_method",
    "instance",
    "_Feature"
   ],
   "varInspector_section_display": "block",
   "window_display": false
  }
 },
 "nbformat": 4,
 "nbformat_minor": 2
}