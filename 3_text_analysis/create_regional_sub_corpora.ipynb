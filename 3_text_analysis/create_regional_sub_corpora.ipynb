{
 "cells": [
  {
   "cell_type": "markdown",
   "metadata": {},
   "source": [
    "# Create regional sub-corpora\n"
   ]
  },
  {
   "cell_type": "markdown",
   "metadata": {},
   "source": [
    "## Load WTI index"
   ]
  },
  {
   "cell_type": "code",
   "execution_count": null,
   "metadata": {},
   "outputs": [],
   "source": [
    "# https://github.com/humlab/the_culture_of_international_relations/issues/25\n",
    "\n",
    "import glob\n",
    "import os\n",
    "\n",
    "def project_root():\n",
    "    folder = os.getcwd()\n",
    "    while not os.path.exists(os.path.join(folder, \"common\")):\n",
    "        folder, _ = os.path.split(folder)\n",
    "    return folder\n",
    "\n",
    "sys.path.append(project_root())\n",
    "\n",
    "import common.config as config\n",
    "import common.treaty_state as treaty_repository\n",
    "\n",
    "treaty_repository.load_wti_index_with_gui(data_folder=config.DATA_FOLDER)"
   ]
  },
  {
   "cell_type": "markdown",
   "metadata": {},
   "source": [
    "## List Countries in Regions"
   ]
  },
  {
   "cell_type": "code",
   "execution_count": null,
   "metadata": {},
   "outputs": [],
   "source": [
    "import pandas as pd\n",
    "\n",
    "pd.DataFrame({\n",
    "    'Region 1': pd.Series(config.get_region_parties(1)),\n",
    "    'Region 2': pd.Series(config.get_region_parties(2)),\n",
    "    'Region 3': pd.Series(config.get_region_parties(3))\n",
    "}).fillna('')"
   ]
  },
  {
   "cell_type": "markdown",
   "metadata": {},
   "source": [
    "## Create bash-script"
   ]
  },
  {
   "cell_type": "code",
   "execution_count": null,
   "metadata": {},
   "outputs": [],
   "source": [
    "# Note: Requires Python => 3.7\n",
    "\n",
    "folder = 'text'\n",
    "# folder = os.path.join(os.getcwd(), input_folder_name)\n",
    "groups = { x: set(config.get_region_parties(x)) for x in [1,2,3] }\n",
    "\n",
    "bash_script = f'''\n",
    "#!/bin/bash\n",
    "\n",
    "rm -rf {folder}/region1\n",
    "rm -rf {folder}/region2\n",
    "rm -rf {folder}/region3\n",
    "\n",
    "mkdir {folder}/region1\n",
    "mkdir {folder}/region2\n",
    "mkdir {folder}/region3\n",
    "'''\n",
    "\n",
    "for path in [ x for x in glob.glob(os.path.join(folder, '*.txt')) ]:\n",
    "    \n",
    "    _, filename = os.path.split(path)    \n",
    "    treaty_id = filename.split('_')[0]\n",
    "    treaty = treaty_repository.current_wti_index().treaties.loc[treaty_id]\n",
    "    assert treaty is not None\n",
    "    \n",
    "    for region_id in [1, 2, 3]:\n",
    "\n",
    "        if len(set([treaty['party1'], treaty['party2']]).intersection(groups[region_id])) > 0:\n",
    "            bash_script += 'cp {}/{} {}/region{}/\\n'.format(folder, filename, folder, region_id)\n",
    "\n",
    "bash_script += f'''\n",
    "zip -j sub_corpus_region1.zip {folder}/region1/*txt\n",
    "zip -j sub_corpus_region2.zip {folder}/region2/*txt\n",
    "zip -j sub_corpus_region3.zip {folder}/region3/*txt\n",
    "\n",
    "rm -rf {folder}/region1\n",
    "rm -rf {folder}/region2\n",
    "rm -rf {folder}/region3\n",
    "'''\n",
    "\n",
    "with open(r\"./create_regional_sub_corpora.sh\",\"w+\") as f:\n",
    "    f.write(bash_script)\n"
   ]
  },
  {
   "cell_type": "code",
   "execution_count": null,
   "metadata": {},
   "outputs": [],
   "source": []
  }
 ],
 "metadata": {
  "language_info": {
   "codemirror_mode": {
    "name": "ipython",
    "version": 3
   },
   "file_extension": ".py",
   "mimetype": "text/x-python",
   "name": "python",
   "nbconvert_exporter": "python",
   "pygments_lexer": "ipython3",
   "version": "3.7.6-final"
  },
  "orig_nbformat": 2,
  "kernelspec": {
   "name": "python376",
   "display_name": "Python 3.7.6 (tCoiR)"
  }
 },
 "nbformat": 4,
 "nbformat_minor": 2
}